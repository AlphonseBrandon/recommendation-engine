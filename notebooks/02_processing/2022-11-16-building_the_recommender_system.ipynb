{
 "cells": [
  {
   "cell_type": "code",
   "execution_count": 5,
   "metadata": {},
   "outputs": [],
   "source": [
    "import sys\n",
    "sys.path.insert(1, 'D:/github-repos/ml-based-recommendation-engine-project/conf/local')\n",
    "from secrets import *"
   ]
  },
  {
   "cell_type": "code",
   "execution_count": 16,
   "metadata": {},
   "outputs": [],
   "source": [
    "import pandas as pd\n",
    "from tmdbv3api import TMDb\n",
    "import json\n",
    "import requests\n",
    "tmdb = TMDb()\n",
    "tmdb.api_key = '663ff3650c35de4553dbd25b8eb2de0d'\n",
    "from tmdbv3api import Movie\n",
    "tmdb_movie = Movie()\n",
    "import numpy as np\n",
    "from sklearn.feature_extraction.text import CountVectorizer\n",
    "from sklearn.metrics.pairwise import cosine_similarity"
   ]
  },
  {
   "cell_type": "code",
   "execution_count": 15,
   "metadata": {},
   "outputs": [],
   "source": [
    "def load_cleaned_data():\n",
    "    '''This function loads the cleaned data'''\n",
    "    global data\n",
    "    path_to_data = 'D:/github-repos/ml-based-recommendation-engine-project/data/02_intermediate/movies_data.csv'\n",
    "    data = pd.read_csv(path_to_data)\n",
    "    "
   ]
  },
  {
   "cell_type": "code",
   "execution_count": 14,
   "metadata": {},
   "outputs": [],
   "source": [
    "load_cleaned_data()"
   ]
  },
  {
   "cell_type": "code",
   "execution_count": 44,
   "metadata": {},
   "outputs": [],
   "source": [
    "def create_a_count_matrix(data):\n",
    "    '''This function converts the data into numerical matrices'''\n",
    "    global count_matrix, cv\n",
    "    cv = CountVectorizer()\n",
    "    count_matrix = cv.fit_transform(data['comb'])\n"
   ]
  },
  {
   "cell_type": "code",
   "execution_count": 45,
   "metadata": {},
   "outputs": [],
   "source": [
    "create_a_count_matrix(data=data)"
   ]
  },
  {
   "cell_type": "code",
   "execution_count": 34,
   "metadata": {},
   "outputs": [],
   "source": [
    "def create_similarity_score_matrix():\n",
    "    '''This function computes the similarity score between movies'''\n",
    "    global similarity\n",
    "    similarity = cosine_similarity(count_matrix)\n",
    "    "
   ]
  },
  {
   "cell_type": "code",
   "execution_count": 35,
   "metadata": {},
   "outputs": [],
   "source": [
    "create_similarity_score_matrix()"
   ]
  },
  {
   "cell_type": "code",
   "execution_count": 51,
   "metadata": {},
   "outputs": [],
   "source": [
    "def checking_if_similarity_has_been_created():\n",
    "    '''This function checks if the similary score has been created'''\n",
    "    global similarity, data\n",
    "    try:\n",
    "        data.head()\n",
    "        similarity.shape\n",
    "    except:\n",
    "        data, similarity = create_similarity_score_matrix(data=data)"
   ]
  },
  {
   "cell_type": "code",
   "execution_count": 52,
   "metadata": {},
   "outputs": [],
   "source": [
    "checking_if_similarity_has_been_created()"
   ]
  },
  {
   "cell_type": "code",
   "execution_count": 66,
   "metadata": {},
   "outputs": [],
   "source": [
    "def make_movie_title_lowercase(movie_title):\n",
    "    '''This function renders the movie title in lowercase\n",
    "    :param: the movie title to get similar movies'''\n",
    "    return movie_title.lower()\n",
    "    "
   ]
  },
  {
   "cell_type": "code",
   "execution_count": 67,
   "metadata": {},
   "outputs": [
    {
     "data": {
      "text/plain": [
       "'avatar'"
      ]
     },
     "execution_count": 67,
     "metadata": {},
     "output_type": "execute_result"
    }
   ],
   "source": [
    "make_movie_title_lowercase('Avatar')"
   ]
  },
  {
   "cell_type": "code",
   "execution_count": 68,
   "metadata": {},
   "outputs": [],
   "source": [
    "def get_list_of_simirlar_movies(movie_title):\n",
    "    '''This function fetches similar movies from our data file\n",
    "    :param: the movie title of the movie we want to get simirlar movies to it'''\n",
    "    global similarity\n",
    "    if movie_title not in data['movie_title'].unique():\n",
    "        return ('Oh no! the movie you requested is not in our database yet. Please check the spelling or try another movie title')\n",
    "    else:\n",
    "        movie_index = data.loc[data['movie_title']==movie_title].index[0]\n",
    "        list_of_movies = list(enumerate(similarity[movie_index]))\n",
    "        sorted_list_of_movies = sorted(list_of_movies, key=lambda x:x[1], reverse=True)\n",
    "        top_four_similar_movies = sorted_list_of_movies[1:5]\n",
    "        recommended_movies_list = []\n",
    "        for movie in range(len(top_four_similar_movies)):\n",
    "            recommended_movie = top_four_similar_movies[movie][0]\n",
    "            recommended_movies_list.append(data['movie_title'][recommended_movie])\n",
    "        \n",
    "        return recommended_movies_list"
   ]
  },
  {
   "cell_type": "code",
   "execution_count": 69,
   "metadata": {},
   "outputs": [
    {
     "data": {
      "text/plain": [
       "['aliens', 'mystery men', 'deep rising', 'dragonball: evolution']"
      ]
     },
     "execution_count": 69,
     "metadata": {},
     "output_type": "execute_result"
    }
   ],
   "source": [
    "get_list_of_simirlar_movies('avatar')"
   ]
  },
  {
   "cell_type": "code",
   "execution_count": 72,
   "metadata": {},
   "outputs": [],
   "source": [
    "def recommend_movies(movie_title):\n",
    "    '''This function recommends similar movies\n",
    "    :param: movie title from frontend input'''\n",
    "\n",
    "    global similarity\n",
    "    movie_title = make_movie_title_lowercase(movie_title)\n",
    "    checking_if_similarity_has_been_created()\n",
    "    return get_list_of_simirlar_movies(movie_title)"
   ]
  },
  {
   "cell_type": "code",
   "execution_count": 73,
   "metadata": {},
   "outputs": [
    {
     "data": {
      "text/plain": [
       "['aliens', 'mystery men', 'deep rising', 'dragonball: evolution']"
      ]
     },
     "execution_count": 73,
     "metadata": {},
     "output_type": "execute_result"
    }
   ],
   "source": [
    "recommend_movies('Avatar')"
   ]
  }
 ],
 "metadata": {
  "kernelspec": {
   "display_name": "Python 3.10.4 64-bit",
   "language": "python",
   "name": "python3"
  },
  "language_info": {
   "codemirror_mode": {
    "name": "ipython",
    "version": 3
   },
   "file_extension": ".py",
   "mimetype": "text/x-python",
   "name": "python",
   "nbconvert_exporter": "python",
   "pygments_lexer": "ipython3",
   "version": "3.10.4"
  },
  "orig_nbformat": 4,
  "vscode": {
   "interpreter": {
    "hash": "2827edc8de4ae171bec65c374726ae243f96315e84b75219c37e8bf010f3a566"
   }
  }
 },
 "nbformat": 4,
 "nbformat_minor": 2
}
